{
 "cells": [
  {
   "cell_type": "code",
   "execution_count": 1,
   "id": "1b7f9665-84cf-4cdd-888a-c938cff48f48",
   "metadata": {},
   "outputs": [
    {
     "name": "stdout",
     "output_type": "stream",
     "text": [
      "List: [1, 2, 3, 4, 5]\n",
      "after adding 6: [1, 2, 3, 4, 5, 6]\n",
      "after removing 3: [1, 2, 4, 5, 6]\n",
      "after modifying index 0 to 10: [0, 2, 4, 5, 6]\n"
     ]
    }
   ],
   "source": [
    "# creative a list\n",
    "my_list = [1,2,3,4,5]\n",
    "print(\"List:\", my_list)\n",
    "my_list. append(6)\n",
    "print(\"after adding 6:\", my_list)\n",
    "my_list.remove(3)\n",
    "print(\"after removing 3:\", my_list)\n",
    "my_list[0] = 0\n",
    "print(\"after modifying index 0 to 10:\", my_list)"
   ]
  },
  {
   "cell_type": "code",
   "execution_count": 4,
   "id": "dbfe5cca-4e45-442e-abc3-0f14b21e0dd2",
   "metadata": {},
   "outputs": [
    {
     "name": "stdout",
     "output_type": "stream",
     "text": [
      "\n",
      "Dictionary: {'a': 1, 'b': 2, 'c': 3}\n",
      "after adding 'd': {'a': 1, 'b': 2, 'c': 3, 'd': 4}\n",
      "after removing 'b': {'a': 1, 'c': 3, 'd': 4}\n",
      "after modifying 'a' to 100: {'a': 100, 'c': 3, 'd': 4}\n"
     ]
    }
   ],
   "source": [
    "# creating a dictionary\n",
    "my_dict = {'a': 1, 'b': 2, 'c': 3}\n",
    "print(\"\\nDictionary:\", my_dict)\n",
    "my_dict['d'] = 4\n",
    "print(\"after adding 'd':\", my_dict)\n",
    "del my_dict['b']\n",
    "print(\"after removing 'b':\", my_dict)\n",
    "my_dict['a'] = 100\n",
    "print(\"after modifying 'a' to 100:\", my_dict)"
   ]
  },
  {
   "cell_type": "code",
   "execution_count": 5,
   "id": "78e6e4c3-974d-4a8f-b015-7453fc22197b",
   "metadata": {},
   "outputs": [
    {
     "name": "stdout",
     "output_type": "stream",
     "text": [
      "\n",
      "set: {1, 2, 3, 4, 5}\n",
      "after adding 6: {1, 2, 3, 4, 5, 6}\n",
      "after removing 3: {1, 2, 4, 5, 6}\n"
     ]
    }
   ],
   "source": [
    "# creating a set\n",
    "my_set = {1, 2, 3, 4, 5}\n",
    "print(\"\\nset:\",my_set)\n",
    "my_set.add(6)\n",
    "print(\"after adding 6:\", my_set)\n",
    "my_set.remove(3)\n",
    "print(\"after removing 3:\", my_set)"
   ]
  },
  {
   "cell_type": "code",
   "execution_count": null,
   "id": "90856b21-56f3-448a-93b8-c9c392af22d4",
   "metadata": {},
   "outputs": [],
   "source": []
  }
 ],
 "metadata": {
  "kernelspec": {
   "display_name": "Python 3 (ipykernel)",
   "language": "python",
   "name": "python3"
  },
  "language_info": {
   "codemirror_mode": {
    "name": "ipython",
    "version": 3
   },
   "file_extension": ".py",
   "mimetype": "text/x-python",
   "name": "python",
   "nbconvert_exporter": "python",
   "pygments_lexer": "ipython3",
   "version": "3.12.4"
  }
 },
 "nbformat": 4,
 "nbformat_minor": 5
}
